{
 "cells": [
  {
   "cell_type": "markdown",
   "metadata": {
    "toc": true
   },
   "source": [
    "<h1>Table of Contents<span class=\"tocSkip\"></span></h1>\n",
    "<div class=\"toc\"><ul class=\"toc-item\"><li><span><a href=\"#Quiz:-Рассчитайте-среднеквадратическое-отклонение-данных-выборочных-значений\" data-toc-modified-id=\"Quiz:-Рассчитайте-среднеквадратическое-отклонение-данных-выборочных-значений-1\"><span class=\"toc-item-num\">1&nbsp;&nbsp;</span>Quiz: Рассчитайте среднеквадратическое отклонение данных выборочных значений</a></span><ul class=\"toc-item\"><li><span><a href=\"#Дисперсия-(Variance)---Java/Groovy\" data-toc-modified-id=\"Дисперсия-(Variance)---Java/Groovy-1.1\"><span class=\"toc-item-num\">1.1&nbsp;&nbsp;</span>Дисперсия (Variance) - Java/Groovy</a></span><ul class=\"toc-item\"><li><span><a href=\"#Вручную\" data-toc-modified-id=\"Вручную-1.1.1\"><span class=\"toc-item-num\">1.1.1&nbsp;&nbsp;</span>Вручную</a></span></li><li><span><a href=\"#Apache-Commons-Math\" data-toc-modified-id=\"Apache-Commons-Math-1.1.2\"><span class=\"toc-item-num\">1.1.2&nbsp;&nbsp;</span>Apache Commons Math</a></span></li><li><span><a href=\"#Tablesaw\" data-toc-modified-id=\"Tablesaw-1.1.3\"><span class=\"toc-item-num\">1.1.3&nbsp;&nbsp;</span>Tablesaw</a></span></li></ul></li><li><span><a href=\"#Дисперсия-(variance)---Python\" data-toc-modified-id=\"Дисперсия-(variance)---Python-1.2\"><span class=\"toc-item-num\">1.2&nbsp;&nbsp;</span>Дисперсия (variance) - Python</a></span><ul class=\"toc-item\"><li><span><a href=\"#Вручную\" data-toc-modified-id=\"Вручную-1.2.1\"><span class=\"toc-item-num\">1.2.1&nbsp;&nbsp;</span>Вручную</a></span><ul class=\"toc-item\"><li><span><a href=\"#sum-/-map\" data-toc-modified-id=\"sum-/-map-1.2.1.1\"><span class=\"toc-item-num\">1.2.1.1&nbsp;&nbsp;</span>sum / map</a></span></li><li><span><a href=\"#reduce\" data-toc-modified-id=\"reduce-1.2.1.2\"><span class=\"toc-item-num\">1.2.1.2&nbsp;&nbsp;</span>reduce</a></span></li></ul></li></ul></li><li><span><a href=\"#numpy\" data-toc-modified-id=\"numpy-1.3\"><span class=\"toc-item-num\">1.3&nbsp;&nbsp;</span>numpy</a></span></li><li><span><a href=\"#Свойства-Дисперсии-и-среднеквадратичного-отклонения\" data-toc-modified-id=\"Свойства-Дисперсии-и-среднеквадратичного-отклонения-1.4\"><span class=\"toc-item-num\">1.4&nbsp;&nbsp;</span>Свойства Дисперсии и среднеквадратичного отклонения</a></span></li></ul></li><li><span><a href=\"#Квартили-распределения-и-график-box-plot\" data-toc-modified-id=\"Квартили-распределения-и-график-box-plot-2\"><span class=\"toc-item-num\">2&nbsp;&nbsp;</span>Квартили распределения и график box-plot</a></span></li><li><span><a href=\"#Box-Plot\" data-toc-modified-id=\"Box-Plot-3\"><span class=\"toc-item-num\">3&nbsp;&nbsp;</span>Box Plot</a></span></li></ul></div>"
   ]
  },
  {
   "cell_type": "markdown",
   "metadata": {},
   "source": [
    "# Основы статистики - степик курс\n",
    "\n",
    "https://stepik.org/course/76/syllabus"
   ]
  },
  {
   "cell_type": "markdown",
   "metadata": {},
   "source": [
    "Конспект, из комментариев начала: https://docs.google.com/document/d/1d65yVxXWKK4ct-ircA_VfuQ9MbQOzs6Ezr6JQp7Gb4I/pub"
   ]
  },
  {
   "cell_type": "markdown",
   "metadata": {},
   "source": [
    "## Quiz: Рассчитайте среднеквадратическое отклонение данных выборочных значений\n",
    "https://stepik.org/lesson/8076/step/10?unit=1356\n",
    "\n",
    "Рассчитайте среднеквадратическое отклонение данных выборочных значений:\n",
    "\n",
    "1 5 2 7 1 9 3 8 5 9\n",
    "\n",
    "Не забудьте, что при расчете дисперсии и среднеквадратичного отклонения мы вычитаем единицу из общего числа наблюдений!"
   ]
  },
  {
   "cell_type": "code",
   "execution_count": 25,
   "metadata": {},
   "outputs": [
    {
     "data": {
      "text/plain": [
       "[1, 5, 2, 7, 1, 9, 3, 8, 5, 9]"
      ]
     },
     "execution_count": 19,
     "metadata": {},
     "output_type": "execute_result"
    }
   ],
   "source": [
    "%%groovy\n",
    "\n",
    "nums = [1, 5, 2, 7, 1, 9, 3, 8, 5, 9]"
   ]
  },
  {
   "cell_type": "code",
   "execution_count": 26,
   "metadata": {},
   "outputs": [
    {
     "data": {
      "text/plain": [
       "50"
      ]
     },
     "execution_count": 20,
     "metadata": {},
     "output_type": "execute_result"
    }
   ],
   "source": [
    "%%groovy\n",
    "\n",
    "nums.sum()"
   ]
  },
  {
   "cell_type": "code",
   "execution_count": 27,
   "metadata": {},
   "outputs": [
    {
     "data": {
      "application/vnd.jupyter.widget-view+json": {
       "model_id": "02e2787a-8a85-4aff-9c20-350859293735",
       "version_major": 2,
       "version_minor": 0
      },
      "method": "display_data"
     },
     "metadata": {},
     "output_type": "display_data"
    }
   ],
   "source": [
    "%%groovy\n",
    "p = new Plot()\n",
    "p << new Line(y: nums, color: Color.green)"
   ]
  },
  {
   "cell_type": "markdown",
   "metadata": {},
   "source": [
    "### Дисперсия (Variance) - Java/Groovy\n",
    "\n",
    "https://stepik.org/lesson/8076/step/8?unit=1356"
   ]
  },
  {
   "cell_type": "markdown",
   "metadata": {},
   "source": [
    "#### Вручную"
   ]
  },
  {
   "cell_type": "code",
   "execution_count": 29,
   "metadata": {},
   "outputs": [
    {
     "data": {
      "text/plain": [
       "5"
      ]
     },
     "execution_count": 23,
     "metadata": {},
     "output_type": "execute_result"
    }
   ],
   "source": [
    "%%groovy\n",
    "// Среднее (mean)\n",
    "Mx = nums.sum() / nums.size()"
   ]
  },
  {
   "cell_type": "code",
   "execution_count": 38,
   "metadata": {},
   "outputs": [
    {
     "data": {
      "text/plain": [
       "10"
      ]
     },
     "execution_count": 27,
     "metadata": {},
     "output_type": "execute_result"
    }
   ],
   "source": [
    "%%groovy\n",
    "// Дисперсия (variance):\n",
    "D = nums.sum{ (it - Mx)**2 } / ( nums.size() - 1 )"
   ]
  },
  {
   "cell_type": "code",
   "execution_count": 40,
   "metadata": {
    "scrolled": true
   },
   "outputs": [
    {
     "data": {
      "text/plain": [
       "3.1622776601683795"
      ]
     },
     "execution_count": 29,
     "metadata": {},
     "output_type": "execute_result"
    }
   ],
   "source": [
    "%%groovy\n",
    "// Стандартное отклонение (standard deviation, std):\n",
    "Sd = D ** 0.5"
   ]
  },
  {
   "cell_type": "markdown",
   "metadata": {},
   "source": [
    "#### Apache Commons Math\n",
    "https://stackoverflow.com/questions/1735870/simple-statistics-java-packages-for-calculating-mean-standard-deviation-etc/1735876#1735876\n",
    "http://commons.apache.org/proper/commons-math/javadocs/api-3.2/org/apache/commons/math3/stat/descriptive/DescriptiveStatistics.html"
   ]
  },
  {
   "cell_type": "code",
   "execution_count": 42,
   "metadata": {},
   "outputs": [],
   "source": [
    "%%groovy\n",
    "@Grab(group='org.apache.commons', module='commons-math3', version='3.6.1')\n",
    "import org.apache.commons.math3.stat.descriptive.DescriptiveStatistics"
   ]
  },
  {
   "cell_type": "code",
   "execution_count": 44,
   "metadata": {},
   "outputs": [
    {
     "data": {
      "text/plain": [
       "null"
      ]
     },
     "execution_count": 31,
     "metadata": {},
     "output_type": "execute_result"
    },
    {
     "data": {
      "application/vnd.jupyter.widget-view+json": {
       "model_id": "",
       "version_major": 2,
       "version_minor": 0
      },
      "method": "display_data"
     },
     "metadata": {},
     "output_type": "display_data"
    }
   ],
   "source": [
    "%%groovy\n",
    "%classpath add mvn org.apache.commons commons-math3 3.6.1"
   ]
  },
  {
   "cell_type": "code",
   "execution_count": 49,
   "metadata": {},
   "outputs": [
    {
     "data": {
      "text/plain": [
       "class org.apache.commons.math3.stat.descriptive.DescriptiveStatistics"
      ]
     },
     "execution_count": 34,
     "metadata": {},
     "output_type": "execute_result"
    }
   ],
   "source": [
    "%%groovy\n",
    "%import org.apache.commons.math3.stat.descriptive.DescriptiveStatistics"
   ]
  },
  {
   "cell_type": "code",
   "execution_count": 53,
   "metadata": {},
   "outputs": [
    {
     "data": {
      "text/plain": [
       "DescriptiveStatistics:\n",
       "n: 10\n",
       "min: 1.0\n",
       "max: 9.0\n",
       "mean: 5.0\n",
       "std dev: 3.1622776601683795\n",
       "median: 5.0\n",
       "skewness: 0.0\n",
       "kurtosis: -1.680952380952382\n"
      ]
     },
     "execution_count": 38,
     "metadata": {},
     "output_type": "execute_result"
    }
   ],
   "source": [
    "%%groovy\n",
    "ds = new DescriptiveStatistics()\n",
    "nums.each{ ds.addValue(it) }\n",
    "ds"
   ]
  },
  {
   "cell_type": "markdown",
   "metadata": {},
   "source": [
    "#### Tablesaw\n",
    "\n",
    "- https://github.com/jtablesaw/tablesaw\n",
    "- https://jtablesaw.github.io/tablesaw/gettingstarted"
   ]
  },
  {
   "cell_type": "code",
   "execution_count": 61,
   "metadata": {},
   "outputs": [
    {
     "data": {
      "application/vnd.jupyter.widget-view+json": {
       "model_id": "",
       "version_major": 2,
       "version_minor": 0
      },
      "method": "display_data"
     },
     "metadata": {},
     "output_type": "display_data"
    }
   ],
   "source": [
    "%%groovy\n",
    "%classpath add mvn tech.tablesaw tablesaw-core LATEST\n",
    "%import tech.tablesaw.api.DoubleColumn"
   ]
  },
  {
   "cell_type": "code",
   "execution_count": 68,
   "metadata": {},
   "outputs": [
    {
     "data": {
      "text/plain": [
       "Column: Test\n",
       "1.0\n",
       "5.0\n",
       "2.0\n",
       "7.0\n",
       "1.0\n",
       "9.0\n",
       "3.0\n",
       "8.0\n",
       "5.0\n",
       "9.0\n"
      ]
     },
     "execution_count": 47,
     "metadata": {},
     "output_type": "execute_result"
    }
   ],
   "source": [
    "%%groovy\n",
    "/* DoubleColumn */ nc = DoubleColumn.create(\"Test\", nums)\n",
    "nc.print()\n"
   ]
  },
  {
   "cell_type": "code",
   "execution_count": 69,
   "metadata": {},
   "outputs": [
    {
     "data": {
      "text/plain": [
       "3.1622776601683795"
      ]
     },
     "execution_count": 48,
     "metadata": {},
     "output_type": "execute_result"
    }
   ],
   "source": [
    "%%groovy\n",
    "nc.standardDeviation()"
   ]
  },
  {
   "cell_type": "markdown",
   "metadata": {},
   "source": [
    "### Дисперсия (variance) - Python"
   ]
  },
  {
   "cell_type": "code",
   "execution_count": 70,
   "metadata": {},
   "outputs": [],
   "source": [
    "nums = [1, 5, 2, 7, 1, 9, 3, 8, 5, 9]"
   ]
  },
  {
   "cell_type": "markdown",
   "metadata": {},
   "source": [
    "#### Вручную"
   ]
  },
  {
   "cell_type": "code",
   "execution_count": 72,
   "metadata": {},
   "outputs": [
    {
     "data": {
      "text/plain": [
       "[1, 5, 2, 7, 1, 9, 3, 8, 5, 9]"
      ]
     },
     "execution_count": 72,
     "metadata": {},
     "output_type": "execute_result"
    }
   ],
   "source": [
    "nums"
   ]
  },
  {
   "cell_type": "code",
   "execution_count": 77,
   "metadata": {},
   "outputs": [
    {
     "data": {
      "text/plain": [
       "5.0"
      ]
     },
     "execution_count": 77,
     "metadata": {},
     "output_type": "execute_result"
    }
   ],
   "source": [
    "# Среднее\n",
    "Mx = sum(nums) / len(nums)\n",
    "Mx"
   ]
  },
  {
   "cell_type": "markdown",
   "metadata": {},
   "source": [
    "##### sum / map"
   ]
  },
  {
   "cell_type": "code",
   "execution_count": 103,
   "metadata": {
    "scrolled": true
   },
   "outputs": [
    {
     "data": {
      "text/plain": [
       "10.0"
      ]
     },
     "execution_count": 103,
     "metadata": {},
     "output_type": "execute_result"
    }
   ],
   "source": [
    "# Дисперсия:\n",
    "D = sum(map(lambda it: (it - Mx)**2, nums)) / ( len(nums) - 1 )\n",
    "D"
   ]
  },
  {
   "cell_type": "markdown",
   "metadata": {},
   "source": [
    "##### reduce"
   ]
  },
  {
   "cell_type": "code",
   "execution_count": 104,
   "metadata": {},
   "outputs": [
    {
     "data": {
      "text/plain": [
       "10.0"
      ]
     },
     "execution_count": 104,
     "metadata": {},
     "output_type": "execute_result"
    }
   ],
   "source": [
    "from functools import reduce\n",
    "D = reduce((lambda sum, it: sum + (it - Mx)**2), nums, 0) / ( len(nums) - 1 )\n",
    "D"
   ]
  },
  {
   "cell_type": "code",
   "execution_count": 107,
   "metadata": {},
   "outputs": [
    {
     "data": {
      "text/plain": [
       "3.1622776601683795"
      ]
     },
     "execution_count": 107,
     "metadata": {},
     "output_type": "execute_result"
    }
   ],
   "source": [
    "# Стандартное отклонение (Std):\n",
    "Sd = D**0.5\n",
    "Sd"
   ]
  },
  {
   "cell_type": "markdown",
   "metadata": {},
   "source": [
    "### numpy"
   ]
  },
  {
   "cell_type": "code",
   "execution_count": 109,
   "metadata": {},
   "outputs": [],
   "source": [
    "import numpy as np"
   ]
  },
  {
   "cell_type": "code",
   "execution_count": 111,
   "metadata": {},
   "outputs": [
    {
     "data": {
      "text/plain": [
       "array([1, 5, 2, 7, 1, 9, 3, 8, 5, 9])"
      ]
     },
     "execution_count": 111,
     "metadata": {},
     "output_type": "execute_result"
    }
   ],
   "source": [
    "np_nums = np.array(nums)\n",
    "np_nums"
   ]
  },
  {
   "cell_type": "code",
   "execution_count": 119,
   "metadata": {},
   "outputs": [
    {
     "data": {
      "text/plain": [
       "10.0"
      ]
     },
     "execution_count": 119,
     "metadata": {},
     "output_type": "execute_result"
    }
   ],
   "source": [
    "# https://docs.scipy.org/doc/numpy-1.15.0/reference/generated/numpy.var.html\n",
    "np_nums.var(ddof=1)"
   ]
  },
  {
   "cell_type": "code",
   "execution_count": 120,
   "metadata": {},
   "outputs": [
    {
     "data": {
      "text/plain": [
       "3.1622776601683795"
      ]
     },
     "execution_count": 120,
     "metadata": {},
     "output_type": "execute_result"
    }
   ],
   "source": [
    "# https://docs.scipy.org/doc/numpy-1.15.0/reference/generated/numpy.std.html#numpy.std\n",
    "np_nums.std(ddof=1)"
   ]
  },
  {
   "cell_type": "markdown",
   "metadata": {},
   "source": [
    "### Свойства Дисперсии и среднеквадратичного отклонения\n",
    "\n",
    "1. D(x+c) = D(x). То есть, при добавлении любого числа к каждому элементу выборки - дисперсия не изменится! То есть сама выборка сдвигается, но её форма остаётеся прежней. https://stepik.org/lesson/8076/step/9?unit=1356\n",
    "То же самое для Sd.\n",
    "2. D(x*c) = D(x) * c^2\n",
    "Sd(x*c) = Sd(x) * c\n",
    "Если каждое значение признака умножить на число С, то стандартное отклонение (Sd) также изменится на эту величину (грачик растянется по x) - изменчивость увеличится"
   ]
  },
  {
   "cell_type": "markdown",
   "metadata": {},
   "source": [
    "## Квартили распределения и график box-plot\n",
    "https://stepik.org/lesson/9294/step/1?unit=1827"
   ]
  },
  {
   "cell_type": "markdown",
   "metadata": {},
   "source": [
    "- **Квантили распределения** - это такие значения признака, которые делят упорядоченные данные на некоторое число равных частей.\n",
    "- **Квартили распределения** - это такие 3 точки (значения признака), которые делят наши данные (упорядоченное множество) на 4 равные части\n",
    "\n",
    "![](https://i.imgur.com/lK6fAkR.png)"
   ]
  },
  {
   "attachments": {
    "image.png": {
     "image/png": "[encoded data removed]"
    }
   },
   "cell_type": "markdown",
   "metadata": {},
   "source": [
    "## Box Plot\n",
    "\n",
    "Иногда называют \"ящик с усами\".\n",
    "- Рассстояние между 1 и 3 квартилем называют **межквартильный размах**, и это одна из *мер изменчивости*. Чем больше размах, тем больше вариативность нашего признака.\n",
    "![image.png](attachment:image.png)"
   ]
  },
  {
   "cell_type": "code",
   "execution_count": null,
   "metadata": {},
   "outputs": [],
   "source": []
  }
 ],
 "metadata": {
  "kernelspec": {
   "display_name": "Python 3",
   "language": "python",
   "name": "python3"
  },
  "language_info": {
   "codemirror_mode": {
    "name": "ipython",
    "version": 3
   },
   "file_extension": ".py",
   "mimetype": "text/x-python",
   "name": "python",
   "nbconvert_exporter": "python",
   "pygments_lexer": "ipython3",
   "version": "3.7.1"
  },
  "toc": {
   "base_numbering": 1,
   "nav_menu": {},
   "number_sections": true,
   "sideBar": true,
   "skip_h1_title": true,
   "title_cell": "Table of Contents",
   "title_sidebar": "Contents",
   "toc_cell": true,
   "toc_position": {
    "height": "539px",
    "left": "0px",
    "top": "111.133px",
    "width": "306.6px"
   },
   "toc_section_display": true,
   "toc_window_display": false
  }
 },
 "nbformat": 4,
 "nbformat_minor": 2
}
